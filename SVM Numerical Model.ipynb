{
 "cells": [
  {
   "cell_type": "code",
   "execution_count": 1,
   "id": "cf9f7670",
   "metadata": {},
   "outputs": [],
   "source": [
    "# import appropriate analysis and ml tools\n",
    "\n",
    "import numpy as np\n",
    "import pandas as pd\n",
    "\n",
    "from sklearn.svm import SVC\n",
    "from sklearn.model_selection import train_test_split, GridSearchCV\n",
    "from sklearn import  svm\n",
    "from sklearn import model_selection, linear_model\n",
    "from sklearn.metrics import confusion_matrix\n",
    "from sklearn.neural_network import MLPClassifier\n",
    "import matplotlib.pyplot as plt"
   ]
  },
  {
   "cell_type": "code",
   "execution_count": 2,
   "id": "b66320bc",
   "metadata": {
    "scrolled": true
   },
   "outputs": [
    {
     "name": "stdout",
     "output_type": "stream",
     "text": [
      "(683, 11)\n"
     ]
    },
    {
     "data": {
      "text/html": [
       "<div>\n",
       "<style scoped>\n",
       "    .dataframe tbody tr th:only-of-type {\n",
       "        vertical-align: middle;\n",
       "    }\n",
       "\n",
       "    .dataframe tbody tr th {\n",
       "        vertical-align: top;\n",
       "    }\n",
       "\n",
       "    .dataframe thead th {\n",
       "        text-align: right;\n",
       "    }\n",
       "</style>\n",
       "<table border=\"1\" class=\"dataframe\">\n",
       "  <thead>\n",
       "    <tr style=\"text-align: right;\">\n",
       "      <th></th>\n",
       "      <th>id</th>\n",
       "      <th>Clump Thickness</th>\n",
       "      <th>Uniformity of Cell Size</th>\n",
       "      <th>Uniformity of Cell Shape</th>\n",
       "      <th>Marginal Adhesion</th>\n",
       "      <th>Single Epithelial Cell Size</th>\n",
       "      <th>Bare Nuclei</th>\n",
       "      <th>Bland Chromatin</th>\n",
       "      <th>Normal Nucleoli</th>\n",
       "      <th>Mitoses</th>\n",
       "      <th>Class</th>\n",
       "    </tr>\n",
       "  </thead>\n",
       "  <tbody>\n",
       "    <tr>\n",
       "      <th>0</th>\n",
       "      <td>1000025</td>\n",
       "      <td>5</td>\n",
       "      <td>1</td>\n",
       "      <td>1</td>\n",
       "      <td>1</td>\n",
       "      <td>2</td>\n",
       "      <td>1</td>\n",
       "      <td>3</td>\n",
       "      <td>1</td>\n",
       "      <td>1</td>\n",
       "      <td>2</td>\n",
       "    </tr>\n",
       "    <tr>\n",
       "      <th>1</th>\n",
       "      <td>1002945</td>\n",
       "      <td>5</td>\n",
       "      <td>4</td>\n",
       "      <td>4</td>\n",
       "      <td>5</td>\n",
       "      <td>7</td>\n",
       "      <td>10</td>\n",
       "      <td>3</td>\n",
       "      <td>2</td>\n",
       "      <td>1</td>\n",
       "      <td>2</td>\n",
       "    </tr>\n",
       "    <tr>\n",
       "      <th>2</th>\n",
       "      <td>1015425</td>\n",
       "      <td>3</td>\n",
       "      <td>1</td>\n",
       "      <td>1</td>\n",
       "      <td>1</td>\n",
       "      <td>2</td>\n",
       "      <td>2</td>\n",
       "      <td>3</td>\n",
       "      <td>1</td>\n",
       "      <td>1</td>\n",
       "      <td>2</td>\n",
       "    </tr>\n",
       "    <tr>\n",
       "      <th>3</th>\n",
       "      <td>1016277</td>\n",
       "      <td>6</td>\n",
       "      <td>8</td>\n",
       "      <td>8</td>\n",
       "      <td>1</td>\n",
       "      <td>3</td>\n",
       "      <td>4</td>\n",
       "      <td>3</td>\n",
       "      <td>7</td>\n",
       "      <td>1</td>\n",
       "      <td>2</td>\n",
       "    </tr>\n",
       "    <tr>\n",
       "      <th>4</th>\n",
       "      <td>1017023</td>\n",
       "      <td>4</td>\n",
       "      <td>1</td>\n",
       "      <td>1</td>\n",
       "      <td>3</td>\n",
       "      <td>2</td>\n",
       "      <td>1</td>\n",
       "      <td>3</td>\n",
       "      <td>1</td>\n",
       "      <td>1</td>\n",
       "      <td>2</td>\n",
       "    </tr>\n",
       "  </tbody>\n",
       "</table>\n",
       "</div>"
      ],
      "text/plain": [
       "        id  Clump Thickness  Uniformity of Cell Size  \\\n",
       "0  1000025                5                        1   \n",
       "1  1002945                5                        4   \n",
       "2  1015425                3                        1   \n",
       "3  1016277                6                        8   \n",
       "4  1017023                4                        1   \n",
       "\n",
       "   Uniformity of Cell Shape  Marginal Adhesion  Single Epithelial Cell Size  \\\n",
       "0                         1                  1                            2   \n",
       "1                         4                  5                            7   \n",
       "2                         1                  1                            2   \n",
       "3                         8                  1                            3   \n",
       "4                         1                  3                            2   \n",
       "\n",
       "   Bare Nuclei  Bland Chromatin  Normal Nucleoli  Mitoses  Class  \n",
       "0            1                3                1        1      2  \n",
       "1           10                3                2        1      2  \n",
       "2            2                3                1        1      2  \n",
       "3            4                3                7        1      2  \n",
       "4            1                3                1        1      2  "
      ]
     },
     "execution_count": 2,
     "metadata": {},
     "output_type": "execute_result"
    }
   ],
   "source": [
    "#import the raw data\n",
    "raw_data = pd.read_csv(\"C:/Users/Mamdouh Mashaal/Desktop/Dataset/breast-cancer-wisconsin.data\", \n",
    "                       names = [\"id\",  \"Clump Thickness\", \"Uniformity of Cell Size\",\"Uniformity of Cell Shape\", \n",
    "                                  \"Marginal Adhesion\", \"Single Epithelial Cell Size\",\"Bare Nuclei\", \"Bland Chromatin\",\n",
    "                                  \"Normal Nucleoli\", \"Mitoses\", \"Class\"])\n",
    "print(raw_data.shape)\n",
    "raw_data.head()"
   ]
  },
  {
   "cell_type": "code",
   "execution_count": 3,
   "id": "c346acee",
   "metadata": {},
   "outputs": [
    {
     "data": {
      "text/html": [
       "<div>\n",
       "<style scoped>\n",
       "    .dataframe tbody tr th:only-of-type {\n",
       "        vertical-align: middle;\n",
       "    }\n",
       "\n",
       "    .dataframe tbody tr th {\n",
       "        vertical-align: top;\n",
       "    }\n",
       "\n",
       "    .dataframe thead th {\n",
       "        text-align: right;\n",
       "    }\n",
       "</style>\n",
       "<table border=\"1\" class=\"dataframe\">\n",
       "  <thead>\n",
       "    <tr style=\"text-align: right;\">\n",
       "      <th></th>\n",
       "      <th>Clump Thickness</th>\n",
       "      <th>Uniformity of Cell Size</th>\n",
       "      <th>Uniformity of Cell Shape</th>\n",
       "      <th>Marginal Adhesion</th>\n",
       "      <th>Single Epithelial Cell Size</th>\n",
       "      <th>Bare Nuclei</th>\n",
       "      <th>Bland Chromatin</th>\n",
       "      <th>Normal Nucleoli</th>\n",
       "      <th>Mitoses</th>\n",
       "      <th>Class</th>\n",
       "    </tr>\n",
       "  </thead>\n",
       "  <tbody>\n",
       "    <tr>\n",
       "      <th>0</th>\n",
       "      <td>0.197905</td>\n",
       "      <td>-0.702212</td>\n",
       "      <td>-0.741774</td>\n",
       "      <td>-0.639366</td>\n",
       "      <td>-0.555608</td>\n",
       "      <td>-0.698853</td>\n",
       "      <td>-0.181827</td>\n",
       "      <td>-0.612927</td>\n",
       "      <td>-0.3484</td>\n",
       "      <td>0</td>\n",
       "    </tr>\n",
       "    <tr>\n",
       "      <th>1</th>\n",
       "      <td>0.197905</td>\n",
       "      <td>0.277252</td>\n",
       "      <td>0.262783</td>\n",
       "      <td>0.758032</td>\n",
       "      <td>1.695166</td>\n",
       "      <td>1.772867</td>\n",
       "      <td>-0.181827</td>\n",
       "      <td>-0.285105</td>\n",
       "      <td>-0.3484</td>\n",
       "      <td>0</td>\n",
       "    </tr>\n",
       "    <tr>\n",
       "      <th>2</th>\n",
       "      <td>-0.511643</td>\n",
       "      <td>-0.702212</td>\n",
       "      <td>-0.741774</td>\n",
       "      <td>-0.639366</td>\n",
       "      <td>-0.555608</td>\n",
       "      <td>-0.424217</td>\n",
       "      <td>-0.181827</td>\n",
       "      <td>-0.612927</td>\n",
       "      <td>-0.3484</td>\n",
       "      <td>0</td>\n",
       "    </tr>\n",
       "    <tr>\n",
       "      <th>3</th>\n",
       "      <td>0.552679</td>\n",
       "      <td>1.583204</td>\n",
       "      <td>1.602192</td>\n",
       "      <td>-0.639366</td>\n",
       "      <td>-0.105454</td>\n",
       "      <td>0.125054</td>\n",
       "      <td>-0.181827</td>\n",
       "      <td>1.354008</td>\n",
       "      <td>-0.3484</td>\n",
       "      <td>0</td>\n",
       "    </tr>\n",
       "    <tr>\n",
       "      <th>4</th>\n",
       "      <td>-0.156869</td>\n",
       "      <td>-0.702212</td>\n",
       "      <td>-0.741774</td>\n",
       "      <td>0.059333</td>\n",
       "      <td>-0.555608</td>\n",
       "      <td>-0.698853</td>\n",
       "      <td>-0.181827</td>\n",
       "      <td>-0.612927</td>\n",
       "      <td>-0.3484</td>\n",
       "      <td>0</td>\n",
       "    </tr>\n",
       "  </tbody>\n",
       "</table>\n",
       "</div>"
      ],
      "text/plain": [
       "   Clump Thickness  Uniformity of Cell Size  Uniformity of Cell Shape  \\\n",
       "0         0.197905                -0.702212                 -0.741774   \n",
       "1         0.197905                 0.277252                  0.262783   \n",
       "2        -0.511643                -0.702212                 -0.741774   \n",
       "3         0.552679                 1.583204                  1.602192   \n",
       "4        -0.156869                -0.702212                 -0.741774   \n",
       "\n",
       "   Marginal Adhesion  Single Epithelial Cell Size  Bare Nuclei  \\\n",
       "0          -0.639366                    -0.555608    -0.698853   \n",
       "1           0.758032                     1.695166     1.772867   \n",
       "2          -0.639366                    -0.555608    -0.424217   \n",
       "3          -0.639366                    -0.105454     0.125054   \n",
       "4           0.059333                    -0.555608    -0.698853   \n",
       "\n",
       "   Bland Chromatin  Normal Nucleoli  Mitoses  Class  \n",
       "0        -0.181827        -0.612927  -0.3484      0  \n",
       "1        -0.181827        -0.285105  -0.3484      0  \n",
       "2        -0.181827        -0.612927  -0.3484      0  \n",
       "3        -0.181827         1.354008  -0.3484      0  \n",
       "4        -0.181827        -0.612927  -0.3484      0  "
      ]
     },
     "execution_count": 3,
     "metadata": {},
     "output_type": "execute_result"
    }
   ],
   "source": [
    "# drop ID and Class columns\n",
    "raw_data2 = raw_data.drop(['id','Class'], axis=1)\n",
    "\n",
    "# normalize the data to have a mean of 0 and std deviation of 1 (standard normal distribution)\n",
    "# normalize by subtracting raw scores from mean and dividing by std deviation (z-score)\n",
    "norm_data = (raw_data2 - np.mean(raw_data2)) / np.std(raw_data2)\n",
    "norm_data.head()\n",
    "\n",
    "# map class variable to 1's (malignant) and 0's (benign)\n",
    "norm_data['Class'] = raw_data['Class'].map({4:1, 2:0})\n",
    "norm_data.head()"
   ]
  },
  {
   "cell_type": "code",
   "execution_count": 4,
   "id": "5076875e",
   "metadata": {},
   "outputs": [
    {
     "name": "stdout",
     "output_type": "stream",
     "text": [
      "0    0\n",
      "1    0\n",
      "2    0\n",
      "3    0\n",
      "4    0\n",
      "Name: Class, dtype: int64\n",
      "(683, 9)\n"
     ]
    }
   ],
   "source": [
    "# divide normalized data into features and labels\n",
    "features = norm_data.drop('Class', axis=1)\n",
    "labels = norm_data['Class']\n",
    "print(labels.head())\n",
    "features.head()\n",
    "print(features.shape)"
   ]
  },
  {
   "cell_type": "code",
   "execution_count": 5,
   "id": "f4e8b1fb",
   "metadata": {
    "scrolled": true
   },
   "outputs": [
    {
     "name": "stdout",
     "output_type": "stream",
     "text": [
      "(478, 9) (478,)\n",
      "(205, 9) (205,)\n"
     ]
    }
   ],
   "source": [
    "# split data into training and test features and labels using 30% of data as validation/test set\n",
    "X_train, X_test, y_train, y_test = train_test_split(features, labels, test_size=.3)\n",
    "print(X_train.shape, y_train.shape)\n",
    "print(X_test.shape, y_test.shape)"
   ]
  },
  {
   "cell_type": "code",
   "execution_count": 6,
   "id": "de9237e6",
   "metadata": {},
   "outputs": [],
   "source": [
    "def svc_param_selection(X, y, nfolds):\n",
    "    \"\"\" When using a SVM with a polynomial kernel there are two hyperparameters to tune. The value of C and \n",
    "    the degree of the polynomial, d. This function, svc_param_selection will find the optimal pair of (C, degree)\n",
    "    that gives the best results on a test set using sklearn's GridSearchCV (cross validation) method.\"\"\"\n",
    "    #the slack penalty hyperparameter\n",
    "    Cs = [0.0001, 0.001, 0.01, 0.1, 1, 10, 100]\n",
    "    #degrees of polynomial kernel of svc\n",
    "    degrees = [1, 2, 3, 4, 5]\n",
    "    #initialize the paremeter grid as dictionary\n",
    "    param_grid = {'C': Cs, 'degree' : degrees}\n",
    "    #initialize search for best parameters using input nfold cross validation\n",
    "    search = GridSearchCV(svm.SVC(kernel='poly'), param_grid, cv=nfolds)\n",
    "    #fit the search object to input training data\n",
    "    search.fit(X, y)\n",
    "    #return the best parameters\n",
    "    search.best_params_\n",
    "    return search.best_params_"
   ]
  },
  {
   "cell_type": "code",
   "execution_count": 7,
   "id": "1914042f",
   "metadata": {},
   "outputs": [
    {
     "data": {
      "text/plain": [
       "{'C': 10, 'degree': 1}"
      ]
     },
     "execution_count": 7,
     "metadata": {},
     "output_type": "execute_result"
    }
   ],
   "source": [
    "svc_param_selection(X_train, y_train, 10)"
   ]
  },
  {
   "cell_type": "code",
   "execution_count": 8,
   "id": "77ad0bea",
   "metadata": {},
   "outputs": [],
   "source": [
    "Cs = [0.0001, 0.001, 0.01, 0.1, 1, 10, 100]\n",
    "degrees = [1, 2, 3, 4, 5]\n",
    "\n",
    "train_acc = []\n",
    "test_acc = []\n",
    "\n",
    "for d in degrees:\n",
    "    for c in Cs:\n",
    "        #print(\"C = \", c, \", degree = \", d)\n",
    "        svc = svm.SVC(C=c, degree=d, kernel='poly')\n",
    "        svc.fit(X_train, y_train)\n",
    "        #print(svc.score(X_train, y_train))\n",
    "        train_acc.append((svc.score(X_train, y_train)))\n",
    "        #print((svc.score(X_test, y_test)))\n",
    "        test_acc.append((svc.score(X_test, y_test)))\n",
    "#print(max(test_acc))"
   ]
  },
  {
   "cell_type": "code",
   "execution_count": 9,
   "id": "1a2b1ac0",
   "metadata": {},
   "outputs": [
    {
     "data": {
      "text/plain": [
       "0.975609756097561"
      ]
     },
     "execution_count": 9,
     "metadata": {},
     "output_type": "execute_result"
    }
   ],
   "source": [
    "final_svc_poly = svm.SVC(C=.1, degree=1, kernel='poly')\n",
    "final_svc_poly.fit(X_train, y_train)\n",
    "final_svc_poly.score(X_test, y_test)"
   ]
  },
  {
   "cell_type": "code",
   "execution_count": 10,
   "id": "bce81c7c",
   "metadata": {},
   "outputs": [
    {
     "data": {
      "image/png": "[encoded data removed]",
      "text/plain": [
       "<Figure size 864x360 with 1 Axes>"
      ]
     },
     "metadata": {
      "needs_background": "light"
     },
     "output_type": "display_data"
    }
   ],
   "source": [
    "from sklearn.model_selection import learning_curve\n",
    "from sklearn.ensemble import RandomForestClassifier\n",
    "from sklearn.datasets import load_digits\n",
    "%matplotlib inline\n",
    "#load data\n",
    "raw_data=load_digits()\n",
    "\n",
    "train_scores=[y_train, X_train]\n",
    "test_scores=[y_test,X_train]\n",
    "#create feature matrix and target vector \n",
    "x,y=raw_data.data, raw_data.target\n",
    "\n",
    "#Plot Learning Curve \n",
    "#Create CV training and test scores for various training set sizes \n",
    "train_sizes, train_scores, test_scores = learning_curve(RandomForestClassifier(), x, y, cv=10, scoring='accuracy', n_jobs=-1, train_sizes=np.linspace(0.01, 1.0, 50))\n",
    "\n",
    "train_mean = np.mean(train_scores, axis=1)\n",
    "train_std = np.std(train_scores, axis=1)\n",
    "test_mean = np.mean(test_scores, axis=1)\n",
    "test_std = np.std(test_scores, axis=1)\n",
    "plt.subplots(1, figsize=(12,5))\n",
    "plt.plot(train_sizes, train_mean, '--', color=\"#111111\",  label=\"Training score\")\n",
    "plt.plot(train_sizes, test_mean, color=\"#111111\", label=\"Cross-validation score\")\n",
    "plt.fill_between(train_sizes, train_mean - train_std, train_mean + train_std, color=\"#DDDDDD\")\n",
    "plt.fill_between(train_sizes, test_mean - test_std, test_mean + test_std, color=\"#DDDDDD\")\n",
    "plt.title(\"Learning Curve\")\n",
    "plt.xlabel(\"Training Set Size\"), plt.ylabel(\"Accuracy Score\"), plt.legend(loc=\"best\")\n",
    "plt.tight_layout()\n",
    "plt.show()"
   ]
  },
  {
   "cell_type": "code",
   "execution_count": 11,
   "id": "735b3ef7",
   "metadata": {},
   "outputs": [
    {
     "name": "stdout",
     "output_type": "stream",
     "text": [
      "Confusion matrix\n",
      "\n",
      " [[127   2]\n",
      " [  3  73]]\n",
      "\n",
      "True Positives(TP) =  127\n",
      "\n",
      "True Negatives(TN) =  73\n",
      "\n",
      "False Positives(FP) =  2\n",
      "\n",
      "False Negatives(FN) =  3\n"
     ]
    }
   ],
   "source": [
    "from sklearn.metrics import confusion_matrix\n",
    "\n",
    "cm = confusion_matrix(y_test, final_svc_poly.predict(X_test))\n",
    "cm\n",
    "\n",
    "\n",
    "print('Confusion matrix\\n\\n', cm)\n",
    "\n",
    "print('\\nTrue Positives(TP) = ', cm[0,0])\n",
    "\n",
    "print('\\nTrue Negatives(TN) = ', cm[1,1])\n",
    "\n",
    "print('\\nFalse Positives(FP) = ', cm[0,1])\n",
    "\n",
    "print('\\nFalse Negatives(FN) = ', cm[1,0])\n",
    "\n",
    "\n"
   ]
  },
  {
   "cell_type": "code",
   "execution_count": 12,
   "id": "24297901",
   "metadata": {},
   "outputs": [
    {
     "data": {
      "text/plain": [
       "<matplotlib.legend.Legend at 0x164c056c520>"
      ]
     },
     "execution_count": 12,
     "metadata": {},
     "output_type": "execute_result"
    },
    {
     "data": {
      "image/png": "[encoded data removed]",
      "text/plain": [
       "<Figure size 864x432 with 1 Axes>"
      ]
     },
     "metadata": {
      "needs_background": "light"
     },
     "output_type": "display_data"
    }
   ],
   "source": [
    "from sklearn.metrics import roc_curve\n",
    "y_score = final_svc_poly.fit(X_train, y_train).decision_function(X_test)\n",
    "\n",
    "fpr, tpr, thresholds = roc_curve(y_test, y_score)\n",
    "\n",
    "\n",
    "fig, ax = plt.subplots(1, figsize=(12, 6))\n",
    "plt.plot(fpr, tpr, color='blue', label='ROC curve for SVM')\n",
    "plt.plot([0, 1], [0, 1], 'k--')\n",
    "plt.xlabel('False Positive Rate (1 - specificity)')\n",
    "plt.ylabel('True Positive Rate (sensitivity)')\n",
    "plt.title('ROC Curve for Breast Cancer Classifer')\n",
    "plt.legend(loc=\"lower right\")"
   ]
  },
  {
   "cell_type": "code",
   "execution_count": 13,
   "id": "1bf5384b",
   "metadata": {},
   "outputs": [
    {
     "name": "stdout",
     "output_type": "stream",
     "text": [
      "1.0\n"
     ]
    },
    {
     "data": {
      "text/plain": [
       "(Text(0.5, 0, 'Number of iterations'), Text(0, 0.5, 'Training\\\\Validation'))"
      ]
     },
     "execution_count": 13,
     "metadata": {},
     "output_type": "execute_result"
    },
    {
     "data": {
      "image/png": "[encoded data removed]",
      "text/plain": [
       "<Figure size 864x432 with 1 Axes>"
      ]
     },
     "metadata": {
      "needs_background": "light"
     },
     "output_type": "display_data"
    }
   ],
   "source": [
    "X_train,X_test,y_train,y_test=model_selection.train_test_split(x,y,test_size=0.3)\n",
    "X_tr,X_val,y_tr,y_val=model_selection.train_test_split(X_train,y_train,test_size=0.3)\n",
    "mlp=MLPClassifier(activation=\"relu\",max_iter=3000)\n",
    "fig, ax = plt.subplots(1, figsize=(12, 6))\n",
    "mlp.fit(X_train,y_train)\n",
    "print (mlp.score(X_train,y_train))\n",
    "plt.plot(mlp.loss_curve_)\n",
    "mlp.fit(X_val,y_val)\n",
    "plt.plot(mlp.loss_curve_)\n",
    "plt.title(\"Loss Curve\")\n",
    "plt.xlabel(\"Number of iterations\"), plt.ylabel(\"Training\\Validation\")"
   ]
  }
 ],
 "metadata": {
  "kernelspec": {
   "display_name": "Python 3 (ipykernel)",
   "language": "python",
   "name": "python3"
  },
  "language_info": {
   "codemirror_mode": {
    "name": "ipython",
    "version": 3
   },
   "file_extension": ".py",
   "mimetype": "text/x-python",
   "name": "python",
   "nbconvert_exporter": "python",
   "pygments_lexer": "ipython3",
   "version": "3.8.8"
  }
 },
 "nbformat": 4,
 "nbformat_minor": 5
}
